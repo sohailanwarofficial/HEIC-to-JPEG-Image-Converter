{
  "nbformat": 4,
  "nbformat_minor": 0,
  "metadata": {
    "colab": {
      "provenance": [],
      "gpuType": "T4"
    },
    "kernelspec": {
      "name": "python3",
      "display_name": "Python 3"
    },
    "language_info": {
      "name": "python"
    },
    "accelerator": "GPU"
  },
  "cells": [
    {
      "cell_type": "code",
      "source": [
        "!pip install pyheif"
      ],
      "metadata": {
        "colab": {
          "base_uri": "https://localhost:8080/"
        },
        "id": "PJJCmCKKo4Fs",
        "outputId": "0c806876-c019-4cf2-e8e8-c0448de89f2c"
      },
      "execution_count": null,
      "outputs": [
        {
          "output_type": "stream",
          "name": "stdout",
          "text": [
            "Collecting pyheif\n",
            "  Downloading pyheif-0.7.1-cp310-cp310-manylinux_2_17_x86_64.manylinux2014_x86_64.whl (9.8 MB)\n",
            "\u001b[2K     \u001b[90m━━━━━━━━━━━━━━━━━━━━━━━━━━━━━━━━━━━━━━━━\u001b[0m \u001b[32m9.8/9.8 MB\u001b[0m \u001b[31m37.0 MB/s\u001b[0m eta \u001b[36m0:00:00\u001b[0m\n",
            "\u001b[?25hRequirement already satisfied: cffi>=1.0.0 in /usr/local/lib/python3.10/dist-packages (from pyheif) (1.15.1)\n",
            "Requirement already satisfied: pycparser in /usr/local/lib/python3.10/dist-packages (from cffi>=1.0.0->pyheif) (2.21)\n",
            "Installing collected packages: pyheif\n",
            "Successfully installed pyheif-0.7.1\n"
          ]
        }
      ]
    },
    {
      "cell_type": "code",
      "source": [
        "!pip install pyheif\n",
        "!pip install pillow\n",
        "\n",
        "import os\n",
        "import pyheif\n",
        "from PIL import Image\n",
        "\n",
        "# Set the path to your HEIC images directory\n",
        "heic_images_dir = '/content/drive/MyDrive/dataset-2/Backward'\n",
        "\n",
        "# Set the path to the output directory for converted JPEG images\n",
        "jpeg_images_dir = '/content/drive/MyDrive/dataset-2/Backward'\n",
        "\n",
        "# Convert HEIC images to JPEG format\n",
        "for root, dirs, files in os.walk(heic_images_dir):\n",
        "    for file in files:\n",
        "        if file.endswith('.HEIC'):\n",
        "            heic_path = os.path.join(root, file)\n",
        "            jpeg_path = os.path.join(jpeg_images_dir, file.replace('.HEIC', '.JPG'))\n",
        "\n",
        "            heif_file = pyheif.read(heic_path)\n",
        "            image = Image.frombytes(\n",
        "                heif_file.mode,\n",
        "                heif_file.size,\n",
        "                heif_file.data,\n",
        "                \"raw\",\n",
        "                heif_file.mode,\n",
        "                heif_file.stride,\n",
        "            )\n",
        "            image.save(jpeg_path, format='JPEG')\n"
      ],
      "metadata": {
        "colab": {
          "base_uri": "https://localhost:8080/"
        },
        "id": "cG_Vjx5notGY",
        "outputId": "2b1d8ca0-9474-4b34-904a-5c37c4e5e9c1"
      },
      "execution_count": null,
      "outputs": [
        {
          "output_type": "stream",
          "name": "stdout",
          "text": [
            "Requirement already satisfied: pyheif in /usr/local/lib/python3.10/dist-packages (0.7.1)\n",
            "Requirement already satisfied: cffi>=1.0.0 in /usr/local/lib/python3.10/dist-packages (from pyheif) (1.15.1)\n",
            "Requirement already satisfied: pycparser in /usr/local/lib/python3.10/dist-packages (from cffi>=1.0.0->pyheif) (2.21)\n",
            "Requirement already satisfied: pillow in /usr/local/lib/python3.10/dist-packages (8.4.0)\n"
          ]
        }
      ]
    }
  ]
}